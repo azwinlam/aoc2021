{
 "cells": [
  {
   "cell_type": "code",
   "execution_count": 61,
   "metadata": {},
   "outputs": [],
   "source": [
    "with open(\"data03.txt\",\"r\") as f:\n",
    "    data = [i.strip() for i in f.readlines()]"
   ]
  },
  {
   "cell_type": "code",
   "execution_count": 62,
   "metadata": {},
   "outputs": [
    {
     "data": {
      "text/plain": [
       "['00100',\n",
       " '11110',\n",
       " '10110',\n",
       " '10111',\n",
       " '10101',\n",
       " '01111',\n",
       " '00111',\n",
       " '11100',\n",
       " '10000',\n",
       " '11001',\n",
       " '00010',\n",
       " '01010']"
      ]
     },
     "execution_count": 62,
     "metadata": {},
     "output_type": "execute_result"
    }
   ],
   "source": [
    "data"
   ]
  },
  {
   "cell_type": "code",
   "execution_count": 63,
   "metadata": {},
   "outputs": [
    {
     "name": "stdout",
     "output_type": "stream",
     "text": [
      "Counter({'1': 7, '0': 5}) 1 0\n",
      "Counter({'0': 7, '1': 5}) 0 1\n",
      "Counter({'1': 8, '0': 4}) 1 0\n",
      "Counter({'1': 7, '0': 5}) 1 0\n",
      "Counter({'0': 7, '1': 5}) 0 1\n",
      "10110 01001\n",
      "22 9\n",
      "198\n"
     ]
    }
   ],
   "source": [
    "from collections import Counter\n",
    "\n",
    "gamma_rate = \"\"\n",
    "epsilon_rate = \"\"\n",
    "\n",
    "for i in range(0, len(data[0])):\n",
    "    bit = \"\"\n",
    "    for line in data:\n",
    "        bit += line[i]\n",
    "    d = Counter(bit)\n",
    "    max_key = max(d, key=d.get)\n",
    "    min_key = min(d, key=d.get)\n",
    "    print(d,max_key, min_key)\n",
    "    gamma_rate += max_key\n",
    "    epsilon_rate += min_key\n",
    "print(gamma_rate,epsilon_rate)\n",
    "print(int(gamma_rate,2),int(epsilon_rate,2))\n",
    "print(int(gamma_rate,2)*int(epsilon_rate,2))"
   ]
  },
  {
   "cell_type": "code",
   "execution_count": 70,
   "metadata": {},
   "outputs": [
    {
     "name": "stdout",
     "output_type": "stream",
     "text": [
      "['00100', '11110', '10110', '10111', '10101', '01111', '00111', '11100', '10000', '11001', '00010', '01010']\n",
      "Counter({'1': 7, '0': 5})\n",
      "1 0\n",
      "1 ['11110', '10110', '10111', '10101', '11100', '10000', '11001']\n",
      "['11110', '10110', '10111', '10101', '11100', '10000', '11001']\n",
      "Counter({'0': 4, '1': 3})\n",
      "0 1\n",
      "2 ['10110', '10111', '10101', '10000']\n",
      "['10110', '10111', '10101', '10000']\n",
      "Counter({'1': 3, '0': 1})\n",
      "1 0\n",
      "3 ['10110', '10111', '10101']\n",
      "['10110', '10111', '10101']\n",
      "Counter({'1': 2, '0': 1})\n",
      "1 0\n",
      "4 ['10110', '10111']\n",
      "['10110', '10111']\n",
      "Counter({'0': 1, '1': 1})\n",
      "0 0\n",
      "5 ['10111']\n",
      "['10111']\n",
      "['10111']\n",
      "23\n",
      "1 0\n",
      "1 ['00100', '01111', '00111', '00010', '01010']\n",
      "0 1\n",
      "2 ['01111', '01010']\n",
      "1 1\n",
      "3 ['01010']\n",
      "['01010']\n",
      "10\n"
     ]
    }
   ],
   "source": [
    "## part two\n",
    "\n",
    "from collections import Counter\n",
    "\n",
    "oxy_rating = \"\"\n",
    "co2_rating = \"\"\n",
    "bit_num = 0\n",
    "\n",
    "def oxy(report, bit_num):\n",
    "    print(report)\n",
    "    if len(report) <= 1:\n",
    "        print(report)\n",
    "        print(int(report[0],2))\n",
    "        return int(report[0],2)\n",
    "    bit = \"\"\n",
    "    for line in report:\n",
    "        bit += line[bit_num]\n",
    "    d = Counter(bit)\n",
    "    print(d)\n",
    "    max_key = max(d, key=d.get)\n",
    "    min_key = min(d, key=d.get)\n",
    "    print(max_key,min_key)\n",
    "    if max_key == min_key:\n",
    "        new_report = [i for i in report if i[bit_num] == \"1\"]\n",
    "    else:\n",
    "        new_report = [i for i in report if i[bit_num] == max_key]\n",
    "    bit_num += 1\n",
    "    print(bit_num,new_report)\n",
    "    oxy(new_report, bit_num)\n",
    "\n",
    "\n",
    "bit_num = 0\n",
    "def co2(report, bit_num):\n",
    "    if len(report) <= 1:\n",
    "        print(report)\n",
    "        print(int(report[0],2))\n",
    "        return int(report[0],2)\n",
    "    bit = \"\"\n",
    "    for line in report:\n",
    "        bit += line[bit_num]\n",
    "    d = Counter(bit)\n",
    "    max_key = max(d, key=d.get)\n",
    "    min_key = min(d, key=d.get)\n",
    "    print(max_key,min_key)\n",
    "    if max_key == min_key:\n",
    "        new_report = [i for i in report if i[bit_num] == \"0\"]\n",
    "    else:\n",
    "        new_report = [i for i in report if i[bit_num] == min_key]\n",
    "    bit_num += 1\n",
    "    print(bit_num,new_report)\n",
    "    co2(new_report, bit_num)\n",
    "\n",
    "oxy(data,bit_num)\n",
    "co2(data,bit_num)"
   ]
  },
  {
   "cell_type": "code",
   "execution_count": 65,
   "metadata": {},
   "outputs": [
    {
     "name": "stdout",
     "output_type": "stream",
     "text": [
      "6157756\n"
     ]
    }
   ],
   "source": [
    "print(3839*1604)"
   ]
  },
  {
   "cell_type": "code",
   "execution_count": null,
   "metadata": {},
   "outputs": [],
   "source": []
  }
 ],
 "metadata": {
  "interpreter": {
   "hash": "ac59ebe37160ed0dfa835113d9b8498d9f09ceb179beaac4002f036b9467c963"
  },
  "kernelspec": {
   "display_name": "Python 3.9.5 64-bit",
   "name": "python3"
  },
  "language_info": {
   "codemirror_mode": {
    "name": "ipython",
    "version": 3
   },
   "file_extension": ".py",
   "mimetype": "text/x-python",
   "name": "python",
   "nbconvert_exporter": "python",
   "pygments_lexer": "ipython3",
   "version": "3.9.5"
  },
  "orig_nbformat": 4
 },
 "nbformat": 4,
 "nbformat_minor": 2
}
