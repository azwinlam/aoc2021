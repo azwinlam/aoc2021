{
 "cells": [
  {
   "cell_type": "code",
   "execution_count": 53,
   "metadata": {},
   "outputs": [],
   "source": [
    "with open(\"data05.txt\",\"r\") as f:\n",
    "    data = [i.strip().replace(\"->\",\"\").split() for i in f.readlines()]"
   ]
  },
  {
   "cell_type": "code",
   "execution_count": 54,
   "metadata": {},
   "outputs": [
    {
     "data": {
      "text/plain": [
       "[['0,9', '5,9'],\n",
       " ['8,0', '0,8'],\n",
       " ['9,4', '3,4'],\n",
       " ['2,2', '2,1'],\n",
       " ['7,0', '7,4'],\n",
       " ['6,4', '2,0'],\n",
       " ['0,9', '2,9'],\n",
       " ['3,4', '1,4'],\n",
       " ['0,0', '8,8'],\n",
       " ['5,5', '8,2']]"
      ]
     },
     "execution_count": 54,
     "metadata": {},
     "output_type": "execute_result"
    }
   ],
   "source": [
    "data"
   ]
  },
  {
   "cell_type": "code",
   "execution_count": 56,
   "metadata": {},
   "outputs": [
    {
     "name": "stdout",
     "output_type": "stream",
     "text": [
      "[(0, 9), (1, 9), (2, 9), (3, 9), (4, 9)]\n",
      "[]\n",
      "[]\n",
      "[]\n",
      "[(7, 0), (7, 1), (7, 2), (7, 3)]\n",
      "none\n",
      "Diagonal\n",
      "[(0, 9), (1, 9)]\n",
      "[]\n",
      "none\n",
      "Diagonal\n",
      "none\n",
      "Diagonal\n"
     ]
    }
   ],
   "source": [
    "def getCords(input):\n",
    "    start_coord = [int(i) for i in input[0].split(',')]\n",
    "    end_coord = [int(i) for i in input[1].split(',')]\n",
    "    # print(start_coord,end_coord)\n",
    "    common = list(set(start_coord).intersection(end_coord))\n",
    "    if common:\n",
    "        indexOfCommon = start_coord.index(common[0])\n",
    "        if indexOfCommon == 0:\n",
    "            lst = [(common[0],i) for i in range(start_coord[1],end_coord[1])]\n",
    "            return lst\n",
    "        else:\n",
    "            lst = [(i,common[0]) for i in range(start_coord[0],end_coord[0])]\n",
    "            return lst\n",
    "        # find the non common number\n",
    "    else:\n",
    "        return(\"Diagonal\")\n",
    "for d in data:\n",
    "    print(getCords(d))"
   ]
  },
  {
   "cell_type": "code",
   "execution_count": null,
   "metadata": {},
   "outputs": [],
   "source": []
  }
 ],
 "metadata": {
  "interpreter": {
   "hash": "39b58c4c2085ea30c00872e9b61f2e1cbaf884d99d4251bf0fac2f36e4bf8518"
  },
  "kernelspec": {
   "display_name": "Python 3.9.1 64-bit",
   "language": "python",
   "name": "python3"
  },
  "language_info": {
   "codemirror_mode": {
    "name": "ipython",
    "version": 3
   },
   "file_extension": ".py",
   "mimetype": "text/x-python",
   "name": "python",
   "nbconvert_exporter": "python",
   "pygments_lexer": "ipython3",
   "version": "3.9.1"
  },
  "orig_nbformat": 4
 },
 "nbformat": 4,
 "nbformat_minor": 2
}
