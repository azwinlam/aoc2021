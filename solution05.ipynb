{
 "cells": [
  {
   "cell_type": "code",
   "execution_count": 178,
   "metadata": {},
   "outputs": [],
   "source": [
    "with open(\"data05.txt\",\"r\") as f:\n",
    "    data = [i.strip().replace(\"->\",\"\").split() for i in f.readlines()]"
   ]
  },
  {
   "cell_type": "code",
   "execution_count": 179,
   "metadata": {},
   "outputs": [
    {
     "data": {
      "text/plain": [
       "[['0,9', '5,9'],\n",
       " ['8,0', '0,8'],\n",
       " ['9,4', '3,4'],\n",
       " ['2,2', '2,1'],\n",
       " ['7,0', '7,4'],\n",
       " ['6,4', '2,0'],\n",
       " ['0,9', '2,9'],\n",
       " ['3,4', '1,4'],\n",
       " ['0,0', '8,8'],\n",
       " ['5,5', '8,2']]"
      ]
     },
     "execution_count": 179,
     "metadata": {},
     "output_type": "execute_result"
    }
   ],
   "source": [
    "data"
   ]
  },
  {
   "cell_type": "code",
   "execution_count": 184,
   "metadata": {},
   "outputs": [
    {
     "name": "stdout",
     "output_type": "stream",
     "text": [
      "[0, 9] [5, 9]\n",
      "INDEX OF COMMON is.... 1\n",
      "Common at 1\n",
      "[(0, 9), (1, 9), (2, 9), (3, 9), (4, 9), (5, 9)]\n",
      "None\n",
      "[9, 4] [3, 4]\n",
      "INDEX OF COMMON is.... 1\n",
      "Common at 1\n",
      "[(3, 4), (4, 4), (5, 4), (6, 4), (7, 4), (8, 4), (9, 4)]\n",
      "[2, 2] [2, 1]\n",
      "INDEX OF COMMON is.... 0\n",
      "Common at 0\n",
      "[(2, 1), (2, 2)]\n",
      "[7, 0] [7, 4]\n",
      "INDEX OF COMMON is.... 0\n",
      "Common at 0\n",
      "[(7, 0), (7, 1), (7, 2), (7, 3), (7, 4)]\n",
      "None\n",
      "[0, 9] [2, 9]\n",
      "INDEX OF COMMON is.... 1\n",
      "Common at 1\n",
      "[(0, 9), (1, 9), (2, 9)]\n",
      "[3, 4] [1, 4]\n",
      "INDEX OF COMMON is.... 1\n",
      "Common at 1\n",
      "[(1, 4), (2, 4), (3, 4)]\n",
      "None\n",
      "None\n"
     ]
    }
   ],
   "source": [
    "def getCords(input):\n",
    "    start_coord = [int(i) for i in input[0].split(',')]\n",
    "    end_coord = [int(i) for i in input[1].split(',')]\n",
    "    if (start_coord[0] == end_coord[0] or start_coord[1] == end_coord[1]):\n",
    "        print(start_coord,end_coord)\n",
    "        common = list(set(start_coord).intersection(end_coord))\n",
    "        if start_coord[0] == end_coord[0]:\n",
    "            indexOfCommon = 0\n",
    "        if start_coord[1] == end_coord[1]:\n",
    "            indexOfCommon = 1\n",
    "        print(\"INDEX OF COMMON is....\",indexOfCommon)\n",
    "        if indexOfCommon == 0:\n",
    "            print(\"Common at 0\")\n",
    "            if start_coord[1] < end_coord[1]:\n",
    "                lst = [(common[0],i) for i in range(start_coord[1],end_coord[1]+1)]\n",
    "                print(lst)\n",
    "                return lst\n",
    "            else:\n",
    "                lst = [(common[0],i) for i in range(end_coord[1],start_coord[1]+1)]\n",
    "                print(lst)\n",
    "                return lst\n",
    "        elif indexOfCommon == 1:\n",
    "            print(\"Common at 1\")\n",
    "            if start_coord[0] < end_coord[0]:\n",
    "                lst = [(i,common[0]) for i in range(start_coord[0],end_coord[0]+1)]\n",
    "                print(lst)\n",
    "                return lst\n",
    "            else:\n",
    "                lst = [(i,common[0]) for i in range(end_coord[0],start_coord[0]+1)]\n",
    "                print(lst)\n",
    "                return lst\n",
    "    else:\n",
    "        print(\"None\")\n",
    "        return []\n",
    "\n",
    "def getDiagCords(input):\n",
    "    start_coord = [int(i) for i in input[0].split(',')]\n",
    "    end_coord = [int(i) for i in input[1].split(',')]\n",
    "    if (start_coord[0] == end_coord[1] and start_coord[1] == end_coord[0]):\n",
    "        print(start_coord,end_coord)\n",
    "    elif (start_coord[0] == start_coord[0] and end_coord[1] == end_coord[0]):\n",
    "        print(start_coord,end_coord)\n",
    "\n",
    "all_coords = []\n",
    "import numpy as np\n",
    "\n",
    "\n",
    "for d in data:\n",
    "    all_coords.extend(getCords(d))\n",
    "\n",
    "\n",
    "#sample grid\n",
    "# arr = np.zeros((10,10))\n",
    "# for d in data:\n",
    "#     x = getCords(d)\n",
    "#     for i in x:\n",
    "#         print(\"HERE:\",i)\n",
    "#         arr[i[1]][i[0]] +=1\n",
    "\n",
    "#     all_coords.extend(getCords(d))"
   ]
  },
  {
   "cell_type": "code",
   "execution_count": 185,
   "metadata": {},
   "outputs": [
    {
     "name": "stdout",
     "output_type": "stream",
     "text": [
      "[8, 0] [0, 8]\n",
      "[0, 0] [8, 8]\n"
     ]
    }
   ],
   "source": [
    "for d in data:\n",
    "    getDiagCords(d)"
   ]
  },
  {
   "cell_type": "code",
   "execution_count": 175,
   "metadata": {},
   "outputs": [
    {
     "data": {
      "text/plain": [
       "5835"
      ]
     },
     "execution_count": 175,
     "metadata": {},
     "output_type": "execute_result"
    }
   ],
   "source": [
    "from collections import Counter\n",
    "\n",
    "A = Counter(all_coords)\n",
    "len({ x: count for x, count in A.items() if count > 1 })"
   ]
  },
  {
   "cell_type": "code",
   "execution_count": 176,
   "metadata": {},
   "outputs": [
    {
     "data": {
      "text/plain": [
       "[1, 2, 3, 4, 5]"
      ]
     },
     "execution_count": 176,
     "metadata": {},
     "output_type": "execute_result"
    }
   ],
   "source": [
    "[i for i in range(1,5+1)]"
   ]
  },
  {
   "cell_type": "code",
   "execution_count": 177,
   "metadata": {},
   "outputs": [
    {
     "data": {
      "text/plain": [
       "[]"
      ]
     },
     "execution_count": 177,
     "metadata": {},
     "output_type": "execute_result"
    }
   ],
   "source": [
    "[i for i in range(5,1)]"
   ]
  },
  {
   "cell_type": "code",
   "execution_count": null,
   "metadata": {},
   "outputs": [],
   "source": []
  }
 ],
 "metadata": {
  "interpreter": {
   "hash": "39b58c4c2085ea30c00872e9b61f2e1cbaf884d99d4251bf0fac2f36e4bf8518"
  },
  "kernelspec": {
   "display_name": "Python 3.9.1 64-bit",
   "language": "python",
   "name": "python3"
  },
  "language_info": {
   "codemirror_mode": {
    "name": "ipython",
    "version": 3
   },
   "file_extension": ".py",
   "mimetype": "text/x-python",
   "name": "python",
   "nbconvert_exporter": "python",
   "pygments_lexer": "ipython3",
   "version": "3.9.5"
  },
  "orig_nbformat": 4
 },
 "nbformat": 4,
 "nbformat_minor": 2
}
