{
 "cells": [
  {
   "cell_type": "code",
   "execution_count": 18,
   "metadata": {},
   "outputs": [],
   "source": [
    "with open(\"data02.txt\",\"r\") as f:\n",
    "    data = [i.strip() for i in f.readlines()]"
   ]
  },
  {
   "cell_type": "code",
   "execution_count": 25,
   "metadata": {},
   "outputs": [
    {
     "name": "stdout",
     "output_type": "stream",
     "text": [
      "2003 872\n",
      "1746616\n"
     ]
    }
   ],
   "source": [
    "data\n",
    "\n",
    "distance = 0\n",
    "depth = 0\n",
    "\n",
    "for move in data:\n",
    "    action = move.split(\" \")\n",
    "    number = int(action[1])\n",
    "    direction = action[0]\n",
    "    if direction == \"forward\":\n",
    "        distance += number\n",
    "    elif direction == \"up\":\n",
    "        depth -= number\n",
    "    elif direction == \"down\":\n",
    "        depth += number\n",
    "    else:\n",
    "        print(\"error\")\n",
    "print(distance,depth)\n",
    "print(distance*depth)"
   ]
  },
  {
   "cell_type": "code",
   "execution_count": 26,
   "metadata": {},
   "outputs": [
    {
     "name": "stdout",
     "output_type": "stream",
     "text": [
      "2003 869681 872\n",
      "1741971043\n"
     ]
    }
   ],
   "source": [
    "# part 2\n",
    "\n",
    "distance = 0\n",
    "depth = 0\n",
    "aim = 0\n",
    "\n",
    "for move in data:\n",
    "    action = move.split(\" \")\n",
    "    number = int(action[1])\n",
    "    direction = action[0]\n",
    "    if direction == \"forward\":\n",
    "        distance += number\n",
    "        depth += number * aim\n",
    "    elif direction == \"up\":\n",
    "        aim -= number\n",
    "    elif direction == \"down\":\n",
    "        aim += number\n",
    "    else:\n",
    "        print(\"error\")\n",
    "print(distance,depth,aim)\n",
    "print(distance*depth)"
   ]
  },
  {
   "cell_type": "code",
   "execution_count": null,
   "metadata": {},
   "outputs": [],
   "source": []
  }
 ],
 "metadata": {
  "interpreter": {
   "hash": "ac59ebe37160ed0dfa835113d9b8498d9f09ceb179beaac4002f036b9467c963"
  },
  "kernelspec": {
   "display_name": "Python 3.9.5 64-bit",
   "name": "python3"
  },
  "language_info": {
   "codemirror_mode": {
    "name": "ipython",
    "version": 3
   },
   "file_extension": ".py",
   "mimetype": "text/x-python",
   "name": "python",
   "nbconvert_exporter": "python",
   "pygments_lexer": "ipython3",
   "version": "3.9.5"
  },
  "orig_nbformat": 4
 },
 "nbformat": 4,
 "nbformat_minor": 2
}
